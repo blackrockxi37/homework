{
 "cells": [
  {
   "cell_type": "code",
   "execution_count": 19,
   "metadata": {},
   "outputs": [],
   "source": [
    "import torch\n",
    "import numpy as np\n",
    "import torch.nn as nn\n",
    "from torchvision.datasets import MNIST\n",
    "import torchvision.transforms as T\n",
    "from torch.utils.data import DataLoader\n",
    "from IPython.display import clear_output as co\n",
    "from tqdm import tqdm\n",
    "import matplotlib.pyplot as plt\n",
    "from torch.optim import Adam\n",
    "import seaborn as sns\n",
    "sns.set_theme(style=\"darkgrid\", font_scale = 1.4)"
   ]
  },
  {
   "cell_type": "code",
   "execution_count": 20,
   "metadata": {},
   "outputs": [
    {
     "name": "stdout",
     "output_type": "stream",
     "text": [
      "Using cpu\n"
     ]
    }
   ],
   "source": [
    "mnist_transforms = T.Compose([\n",
    "    T.Resize((64,64)),\n",
    "    T.ToTensor(), \n",
    "    ])\n",
    "\n",
    "device = 'cuda' if torch.cuda.is_available() else 'cpu'; print(f'Using {device}')\n",
    "train_set = MNIST(root='./data', train=True, download=True, transform=mnist_transforms)\n",
    "valid_set = MNIST(root='./data', train=False, download=True, transform=mnist_transforms)\n",
    "\n",
    "train_loader = DataLoader(train_set, batch_size=128, shuffle=True)\n",
    "valid_loader = DataLoader(valid_set, batch_size=128, shuffle=False)\n",
    "\n",
    "def plot_stats(train_loss, valid_loss):\n",
    "    plt.figure(figsize=(10, 5))\n",
    "    plt.plot(train_loss, label='Training Loss')\n",
    "    plt.plot(valid_loss, label='Validation Loss')\n",
    "    plt.legend()\n",
    "    plt.grid()\n",
    "    plt.show()\n",
    "\n",
    "\n",
    "criterion = nn.MSELoss()\n",
    "\n",
    "def train(model):\n",
    "    optimizer = Adam(model.parameters(), lr = 1e-3)\n",
    "    model.train()\n",
    "    train_losses = 0\n",
    "    for x, _ in tqdm(train_loader, desc = 'Train'):\n",
    "        x = x.to(device)\n",
    "        optimizer.zero_grad()\n",
    "        y_hat = model(x)\n",
    "        loss = criterion(y_hat, x)\n",
    "        train_losses += loss.item()\n",
    "        loss.backward()\n",
    "        optimizer.step()\n",
    "    return train_losses / len(train_loader)\n",
    "\n",
    "@torch.inference_mode()\n",
    "def valid(model):\n",
    "    valid_losses = 0\n",
    "    model.eval()\n",
    "    for x, _ in tqdm(valid_loader, desc = 'Valid'):\n",
    "        with torch.no_grad():\n",
    "            x = x.to(device)\n",
    "            y_hat = model(x)\n",
    "            loss = criterion(y_hat, x)\n",
    "            valid_losses += loss.item()\n",
    "    return valid_losses / len(valid_loader)\n"
   ]
  },
  {
   "cell_type": "code",
   "execution_count": 21,
   "metadata": {},
   "outputs": [],
   "source": [
    "from torchvision.utils import make_grid\n",
    "\n",
    "@torch.inference_mode()\n",
    "def visual(model, xs):\n",
    "    model.eval()\n",
    "    z = model(xs.to(device)).cpu()\n",
    "    plt.figure(figsize = (20, 4))\n",
    "\n",
    "    img = T.ToPILImage(torch.cat((\n",
    "        make_grid(xs[:10], nrow = 10),\n",
    "        make_grid(z[:10], nrow = 10)\n",
    "    )))\n",
    "    plt.imshow(img)\n",
    "    plt.axif('off')\n",
    "    plt.show()"
   ]
  },
  {
   "cell_type": "code",
   "execution_count": 25,
   "metadata": {},
   "outputs": [],
   "source": [
    "def octava(model, epochs = 10):\n",
    "    train_losses, valid_losses = [], []\n",
    "\n",
    "    for e in range(epochs):\n",
    "        train_loss = train(model)\n",
    "        valid_loss = valid(model)\n",
    "\n",
    "        train_losses.append(train_loss)\n",
    "        valid_losses.append(valid_loss)\n",
    "\n",
    "        co(wait = True)\n",
    "        visual(model, next(iter(valid_loader))[0])\n",
    "        plot_stats(train_losses, valid_losses)\n"
   ]
  },
  {
   "cell_type": "code",
   "execution_count": 23,
   "metadata": {},
   "outputs": [],
   "source": [
    "class Block(nn.Module):\n",
    "    def __init__(self, in_channels, out_channels, kernel, stride = 1, padding = 1, up = False):\n",
    "        super().__init__()\n",
    "        self.up = up\n",
    "        self.conv = nn.Conv2d(in_channels, out_channels, kernel, stride, padding)\n",
    "        self.norm = nn.BatchNorm2d(out_channels)\n",
    "        self.act = nn.ELU()\n",
    "\n",
    "    def forward(self, x):\n",
    "        if self.up:\n",
    "            x = nn.functional.interpolate(x, scale_factor = 2, mode = 'bilinear', align_corners = False, recompute_scale_factor=4)\n",
    "\n",
    "        return self.act(self.norm(self.conv(x)))\n",
    "\n",
    "class AutoEncoder(nn.Module):\n",
    "    def __init__(self, in_channels, base_block = Block, baze_size = 32, num_blocks = 4):\n",
    "        super().__init__()\n",
    "        self.baze_size = baze_size\n",
    "        encoder_blocks = [\n",
    "            base_block(baze_size if i else in_channels, baze_size, 3, 1, 1)\n",
    "            for i in range(num_blocks)\n",
    "        ]\n",
    "        encoder_blocks.append(base_block(\n",
    "            baze_size, baze_size, 3, 1, 1, up = True\n",
    "        ).conv)\n",
    "        self.encoder = nn.Sequential(*encoder_blocks)\n",
    "\n",
    "        decoder_blocks = [\n",
    "            base_block(baze_size, baze_size, 3, 1, 1, up = True)\n",
    "            for i in range(num_blocks)\n",
    "        ]\n",
    "        decoder_blocks.append(base_block(baze_size, in_channels, 3).conv)\n",
    "        self.decoder = nn.Sequential(*decoder_blocks)\n",
    "\n",
    "        self.flatten = nn.Flatten()\n",
    "\n",
    "    def forward(self, x):\n",
    "        x = self.encoder(x)\n",
    "        x = self.decoder(x)\n",
    "        return x   \n",
    "    def encode(self, x):\n",
    "        return self.flatten(self.encoder(x))\n",
    "    def decode(self, x):\n",
    "        size = int(np.sqrt(x.shape[1] // self.baze_size))\n",
    "        return self.decoder(x.view(-1, self.baze_size, size, size))"
   ]
  },
  {
   "cell_type": "code",
   "execution_count": 26,
   "metadata": {},
   "outputs": [
    {
     "name": "stderr",
     "output_type": "stream",
     "text": [
      "Train:   0%|          | 0/469 [00:00<?, ?it/s]"
     ]
    }
   ],
   "source": [
    "model = AutoEncoder(1).to(device)\n",
    "octava(model)"
   ]
  }
 ],
 "metadata": {
  "kernelspec": {
   "display_name": "Python 3 (ipykernel)",
   "language": "python",
   "name": "python3"
  },
  "language_info": {
   "codemirror_mode": {
    "name": "ipython",
    "version": 3
   },
   "file_extension": ".py",
   "mimetype": "text/x-python",
   "name": "python",
   "nbconvert_exporter": "python",
   "pygments_lexer": "ipython3",
   "version": "3.12.6"
  }
 },
 "nbformat": 4,
 "nbformat_minor": 2
}
