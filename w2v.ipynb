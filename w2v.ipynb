{
 "cells": [
  {
   "cell_type": "code",
   "execution_count": 1,
   "id": "0555595a",
   "metadata": {
    "execution": {
     "iopub.execute_input": "2024-10-01T09:25:25.877747Z",
     "iopub.status.busy": "2024-10-01T09:25:25.876863Z",
     "iopub.status.idle": "2024-10-01T09:27:15.893692Z",
     "shell.execute_reply": "2024-10-01T09:27:15.892476Z"
    },
    "papermill": {
     "duration": 112.157869,
     "end_time": "2024-10-01T09:27:18.017102",
     "exception": false,
     "start_time": "2024-10-01T09:25:25.859233",
     "status": "completed"
    },
    "tags": [],
    "vscode": {
     "languageId": "python"
    }
   },
   "outputs": [
    {
     "name": "stdout",
     "output_type": "stream",
     "text": [
      "[==================================================] 100.0% 199.5/199.5MB downloaded\n"
     ]
    },
    {
     "data": {
      "text/plain": [
       "[('prince', 0.759779691696167),\n",
       " ('stone', 0.7595877051353455),\n",
       " ('queen', 0.754626989364624),\n",
       " ('meets', 0.7404001355171204),\n",
       " ('royal', 0.7376410365104675)]"
      ]
     },
     "execution_count": 1,
     "metadata": {},
     "output_type": "execute_result"
    }
   ],
   "source": [
    "import torch\n",
    "import numpy as np\n",
    "import pandas as pd\n",
    "import torch.nn as nn\n",
    "import torch.nn.functional as F\n",
    "import gensim.downloader as api\n",
    "\n",
    "import os \n",
    "import warnings\n",
    "\n",
    "warnings.filterwarnings(\"ignore\")\n",
    "os.environ['KMP_DUPLICATE_LIB_OK'] = 'True'\n",
    "on_kaggle = 'KAGGLE_KERNEL_RUN_TYPE' in os.environ\n",
    "\n",
    "fasttext = api.load('glove-twitter-50')\n",
    "fasttext.most_similar(positive=['king', 'woman'], negative=['man'])[:5]"
   ]
  },
  {
   "cell_type": "code",
   "execution_count": 2,
   "id": "21a70857",
   "metadata": {
    "execution": {
     "iopub.execute_input": "2024-10-01T09:27:22.157431Z",
     "iopub.status.busy": "2024-10-01T09:27:22.157056Z",
     "iopub.status.idle": "2024-10-01T09:27:22.187875Z",
     "shell.execute_reply": "2024-10-01T09:27:22.187154Z"
    },
    "papermill": {
     "duration": 2.100766,
     "end_time": "2024-10-01T09:27:22.189804",
     "exception": false,
     "start_time": "2024-10-01T09:27:20.089038",
     "status": "completed"
    },
    "tags": [],
    "vscode": {
     "languageId": "python"
    }
   },
   "outputs": [],
   "source": [
    "import re\n",
    "from collections import Counter\n",
    "\n",
    "class Vocab:\n",
    "    def __init__(self, texts: list[str], min_freq: int = 10):\n",
    "        self.min_freq = min_freq\n",
    "        text = ' '.join(texts)\n",
    "        text = self._remove_links(text)\n",
    "        text = self._remove_special_chars(text)\n",
    "        text = self._remove_multiple_spaces(text)\n",
    "        self.vocab = self._filter_words(text.strip().lower().split())\n",
    "        self.vocab.append('<unk>')\n",
    "\n",
    "        self._word2idx = {word: idx for idx, word in enumerate(self.vocab)}\n",
    "        self._idx2word = {idx: word for idx, word in enumerate(self.vocab)}\n",
    "    \n",
    "    def _remove_links(self, text):\n",
    "        return re.sub(r'http\\S+|www\\S+|https\\S+', '', text, flags=re.MULTILINE)\n",
    "    \n",
    "    def _remove_special_chars(self, text):\n",
    "        return re.sub(r'[^a-zA-Z\\s]', '', text)\n",
    "    \n",
    "    def _remove_multiple_spaces(self, text):\n",
    "        return re.sub(r'\\s+', ' ', text)\n",
    "    \n",
    "    def _filter_words(self, words) -> list[str]:\n",
    "        counter = Counter(words)\n",
    "        return list({word for word in words if counter[word] > self.min_freq})\n",
    "    \n",
    "    def get_vocab(self): return self.vocab\n",
    "\n",
    "    def idx2word(self, idx):\n",
    "        if idx not in self.idx2word: return '<unk>'\n",
    "        return self._idx2word[idx]\n",
    "\n",
    "    def word2idx(self , word):\n",
    "        word = word.lower()\n",
    "        if word not in self._word2idx: return self._word2idx['<unk>']\n",
    "        return self._word2idx[word]\n",
    "\n",
    "    def encode(self, text):\n",
    "        return [self.word2idx(word) for word in text.split()]\n",
    "    \n",
    "    def make_vectors(self, fasttext):\n",
    "        return np.stack([fasttext[word] if fasttext.has_index_for(word) \\\n",
    "                else np.zeros(fasttext.vector_size) \\\n",
    "                for word in self.vocab])"
   ]
  },
  {
   "cell_type": "code",
   "execution_count": 3,
   "id": "0d67cbc2",
   "metadata": {
    "execution": {
     "iopub.execute_input": "2024-10-01T09:27:26.372800Z",
     "iopub.status.busy": "2024-10-01T09:27:26.372413Z",
     "iopub.status.idle": "2024-10-01T09:27:43.148999Z",
     "shell.execute_reply": "2024-10-01T09:27:43.148220Z"
    },
    "papermill": {
     "duration": 18.854303,
     "end_time": "2024-10-01T09:27:43.151168",
     "exception": false,
     "start_time": "2024-10-01T09:27:24.296865",
     "status": "completed"
    },
    "tags": [],
    "vscode": {
     "languageId": "python"
    }
   },
   "outputs": [],
   "source": [
    "from torch.utils.data import DataLoader, Dataset\n",
    "\n",
    "class IMDB(Dataset):\n",
    "    def __init__(self, path):\n",
    "        self.df = pd.read_csv(path)\n",
    "        texts = self.df['review'].values\n",
    "        labels = self.df['sentiment'].values\n",
    "        self.vocab = Vocab(texts)\n",
    "        self.labels2int = {'positive': 1, 'negative': 0}\n",
    "\n",
    "    def __getitem__(self, idx):\n",
    "\n",
    "        text = self.df['review'].loc[idx]\n",
    "        label = self.labels2int[self.df['sentiment'].loc[idx]]\n",
    "        text = torch.LongTensor(self.vocab.encode(text))\n",
    "        label = torch.FloatTensor([label])\n",
    "\n",
    "        return text, label\n",
    "    def __len__(self):\n",
    "        return len(self.df)\n",
    "    \n",
    "\n",
    "if not on_kaggle:\n",
    "    if 'IMDB Dataset.csv' not in os.listdir():\n",
    "        import kaggle\n",
    "        kaggle.api.dataset_download_files('lakshmi25npathi/imdb-dataset-of-50k-movie-reviews', path='.', unzip=True)\n",
    "    dataset = IMDB('IMDB Dataset.csv')\n",
    "else:\n",
    "    dataset = IMDB('/kaggle/input/imdb-dataset-of-50k-movie-reviews/IMDB Dataset.csv')\n",
    "#dataset[0]"
   ]
  },
  {
   "cell_type": "code",
   "execution_count": 4,
   "id": "6417f64d",
   "metadata": {
    "execution": {
     "iopub.execute_input": "2024-10-01T09:27:47.269352Z",
     "iopub.status.busy": "2024-10-01T09:27:47.268326Z",
     "iopub.status.idle": "2024-10-01T09:27:47.304795Z",
     "shell.execute_reply": "2024-10-01T09:27:47.303794Z"
    },
    "papermill": {
     "duration": 2.149825,
     "end_time": "2024-10-01T09:27:47.307433",
     "exception": false,
     "start_time": "2024-10-01T09:27:45.157608",
     "status": "completed"
    },
    "tags": [],
    "vscode": {
     "languageId": "python"
    }
   },
   "outputs": [],
   "source": [
    "from torch.utils.data import random_split\n",
    "from torch.nn.utils.rnn import pad_sequence\n",
    "\n",
    "train_size = int(0.8 * len(dataset))\n",
    "test_size = len(dataset) - train_size\n",
    "train_set, test_set = random_split(dataset, [train_size, test_size])\n",
    "\n",
    "pad_index = len(dataset.vocab.vocab)\n",
    "def collate_fn(batch):\n",
    "    texts = pad_sequence([b[0] for b in batch], padding_value=pad_index, batch_first=True)\n",
    "    labels = torch.stack([b[1] for b in batch])\n",
    "    return texts, labels\n",
    "def binary_accuracy(preds, y):\n",
    "    rounded_preds = torch.round(torch.sigmoid(preds))\n",
    "    correct = (rounded_preds == y).float()\n",
    "    return correct.sum() / len(correct)\n",
    "\n",
    "train_loader = DataLoader(train_set, batch_size=16, collate_fn=collate_fn, pin_memory=True, num_workers = 0)\n",
    "test_loader = DataLoader(test_set, batch_size=16, collate_fn=collate_fn, pin_memory=True, num_workers = 0)"
   ]
  },
  {
   "cell_type": "code",
   "execution_count": 5,
   "id": "737550c9",
   "metadata": {
    "execution": {
     "iopub.execute_input": "2024-10-01T09:27:51.372987Z",
     "iopub.status.busy": "2024-10-01T09:27:51.372606Z",
     "iopub.status.idle": "2024-10-01T09:27:54.886744Z",
     "shell.execute_reply": "2024-10-01T09:27:54.885982Z"
    },
    "papermill": {
     "duration": 5.597854,
     "end_time": "2024-10-01T09:27:54.889215",
     "exception": false,
     "start_time": "2024-10-01T09:27:49.291361",
     "status": "completed"
    },
    "tags": [],
    "vscode": {
     "languageId": "python"
    }
   },
   "outputs": [],
   "source": [
    "import pytorch_lightning as pl # type: ignore\n",
    "import plotly.graph_objects as go # type: ignore\n",
    "from IPython.display import display\n",
    "\n",
    "class TextConvNN(pl.LightningModule):\n",
    "    def __init__(self, vocab_size, dims_size, pad_idx):\n",
    "        super().__init__()\n",
    "        self.embedding = nn.Embedding(vocab_size, dims_size, padding_idx=pad_idx)\n",
    "        kernels = [2, 3, 4, 5]\n",
    "        self.convs = nn.ModuleList([nn.Conv2d(1, 16, kernel_size=(k, dims_size)) for k in kernels])\n",
    "        self.fc = nn.Linear(len(kernels) * 16, 1)\n",
    "        self.dropout = nn.Dropout(0.25)\n",
    "\n",
    "    def forward(self, x):\n",
    "        x = self.embedding(x).unsqueeze(1)\n",
    "        x = [F.relu(conv(x)).squeeze(3) for conv in self.convs]\n",
    "        x = [F.max_pool1d(_, _.shape[2]).squeeze(2) for _ in x]\n",
    "        x = self.dropout(torch.cat(x, dim=1))\n",
    "        return self.fc(x)\n",
    "\n",
    "    def training_step(self, batch, batch_idx):\n",
    "        x, y = batch\n",
    "        y_hat = self(x)\n",
    "        loss = F.binary_cross_entropy_with_logits(y_hat, y)\n",
    "        self.log('train_loss', loss, on_step=False, on_epoch=True, prog_bar=True, logger=True)\n",
    "        self.log('train_accuracy', binary_accuracy(y_hat, y), on_step=False, on_epoch=True, prog_bar=True, logger=True)\n",
    "        return loss\n",
    "\n",
    "    def validation_step(self, batch, batch_idx):\n",
    "        x, y = batch\n",
    "        y_hat = self(x)\n",
    "        loss = F.binary_cross_entropy_with_logits(y_hat, y)\n",
    "        self.log('val_loss', loss, on_step=False, on_epoch=True, prog_bar=True, logger=True)\n",
    "        self.log('val_accuracy', binary_accuracy(y_hat, y), on_step=False, on_epoch=True, prog_bar=True, logger=True)\n",
    "        return loss\n",
    "\n",
    "    def test_step(self, batch, batch_idx):\n",
    "        x, y = batch\n",
    "        y_hat = self(x)\n",
    "        loss = F.binary_cross_entropy_with_logits(y_hat, y)\n",
    "        self.log('test_loss', loss, on_step=False, on_epoch=True, prog_bar=True, logger=True)\n",
    "        self.log('test_accuracy', binary_accuracy(y_hat, y), on_step=False, on_epoch=True, prog_bar=True, logger=True)\n",
    "        return loss\n",
    "\n",
    "    def configure_optimizers(self):\n",
    "        return torch.optim.Adam(self.parameters(), lr=1e-3)\n"
   ]
  },
  {
   "cell_type": "code",
   "execution_count": 6,
   "id": "584a4430",
   "metadata": {
    "execution": {
     "iopub.execute_input": "2024-10-01T09:27:59.056171Z",
     "iopub.status.busy": "2024-10-01T09:27:59.055553Z",
     "iopub.status.idle": "2024-10-01T09:27:59.071992Z",
     "shell.execute_reply": "2024-10-01T09:27:59.071129Z"
    },
    "papermill": {
     "duration": 2.076647,
     "end_time": "2024-10-01T09:27:59.074008",
     "exception": false,
     "start_time": "2024-10-01T09:27:56.997361",
     "status": "completed"
    },
    "tags": [],
    "vscode": {
     "languageId": "python"
    }
   },
   "outputs": [],
   "source": [
    "import plotly.graph_objects as go\n",
    "from IPython.display import display, clear_output\n",
    "from pytorch_lightning.loggers import Logger\n",
    "from pytorch_lightning.utilities.rank_zero import rank_zero_only\n",
    "\n",
    "class PlotlyLogger(Logger):\n",
    "    def __init__(self):\n",
    "        super().__init__()\n",
    "        self.fig_accuracy = go.FigureWidget()\n",
    "        self.fig_loss = go.FigureWidget()\n",
    "\n",
    "        self.fig_accuracy.add_trace(go.Scatter(y=[], mode='lines', name='Train'))\n",
    "        self.fig_accuracy.add_trace(go.Scatter(y=[], mode='lines', name='Test'))\n",
    "        self.fig_loss.add_trace(go.Scatter(y=[], mode='lines', name='Train'))\n",
    "        self.fig_loss.add_trace(go.Scatter(y=[], mode='lines', name='Test'))\n",
    "\n",
    "        self.fig_accuracy.update_layout(xaxis_title='Epoch', yaxis_title='Accuracy', margin=dict(l=20, r=20, t=20, b=20))\n",
    "        self.fig_loss.update_layout(xaxis_title='Epoch', yaxis_title='Loss', margin=dict(l=20, r=20, t=20, b=20))\n",
    "        self.y_train_acc, self.y_test_acc = [], []\n",
    "        self.y_train_loss, self.y_test_loss = [], []\n",
    "        self.count = 0\n",
    "\n",
    "\n",
    "        display(self.fig_accuracy)\n",
    "        display(self.fig_loss)\n",
    "    @rank_zero_only\n",
    "    def log_metrics(self, metrics, step):\n",
    "        self.count += 1\n",
    "        if self.count % 2 != 0:\n",
    "            self.y_test_acc.append(metrics.get('val_accuracy', 0))\n",
    "            self.y_test_loss.append(metrics.get('val_loss', 0))\n",
    "            if on_kaggle: print('Validation Accuracy | Loss: ', self.y_test_acc, self.y_test_loss, sep = '\\n')\n",
    "        else:\n",
    "            self.y_train_acc.append(metrics.get('train_accuracy', 0))\n",
    "            self.y_train_loss.append(metrics.get('train_loss', 0))\n",
    "            if on_kaggle: print('Train Accuracy | Loss: ', self.y_train_acc, self.y_train_loss, sep = '\\n')\n",
    "\n",
    "\n",
    "        self.fig_accuracy.data[0].y = self.y_train_acc\n",
    "        self.fig_accuracy.data[1].y = self.y_test_acc\n",
    "        self.fig_loss.data[0].y = self.y_train_loss\n",
    "        self.fig_loss.data[1].y = self.y_test_loss\n",
    "\n",
    "\n",
    "    def log_hyperparams(self, params):\n",
    "        pass\n",
    "    @property\n",
    "    def experiment(self):\n",
    "        return None\n",
    "    @property\n",
    "    def name(self):\n",
    "        return 'PlotlyLogger'\n",
    "    @property\n",
    "    def version(self):\n",
    "        return '0.1'"
   ]
  },
  {
   "cell_type": "code",
   "execution_count": 7,
   "id": "06fa7bcb",
   "metadata": {
    "execution": {
     "iopub.execute_input": "2024-10-01T09:28:03.191679Z",
     "iopub.status.busy": "2024-10-01T09:28:03.190691Z",
     "iopub.status.idle": "2024-10-01T09:28:03.498247Z",
     "shell.execute_reply": "2024-10-01T09:28:03.497282Z"
    },
    "papermill": {
     "duration": 2.297366,
     "end_time": "2024-10-01T09:28:03.500543",
     "exception": false,
     "start_time": "2024-10-01T09:28:01.203177",
     "status": "completed"
    },
    "tags": [],
    "vscode": {
     "languageId": "python"
    }
   },
   "outputs": [],
   "source": [
    "model = TextConvNN(len(dataset.vocab.vocab) + 1, fasttext.vector_size, pad_index)\n",
    "model.embedding.weight.data[:len(dataset.vocab.make_vectors(fasttext))] = torch.from_numpy(dataset.vocab.make_vectors(fasttext))"
   ]
  },
  {
   "cell_type": "code",
   "execution_count": 8,
   "id": "e4934a73",
   "metadata": {
    "execution": {
     "iopub.execute_input": "2024-10-01T09:28:07.651178Z",
     "iopub.status.busy": "2024-10-01T09:28:07.650252Z",
     "iopub.status.idle": "2024-10-01T09:51:08.075818Z",
     "shell.execute_reply": "2024-10-01T09:51:08.074884Z"
    },
    "papermill": {
     "duration": 1384.317942,
     "end_time": "2024-10-01T09:51:09.972494",
     "exception": false,
     "start_time": "2024-10-01T09:28:05.654552",
     "status": "completed"
    },
    "tags": [],
    "vscode": {
     "languageId": "python"
    }
   },
   "outputs": [
    {
     "data": {
      "application/vnd.jupyter.widget-view+json": {
       "model_id": "6dda24420e5c45d79993142a85e55ab6",
       "version_major": 2,
       "version_minor": 0
      },
      "text/plain": [
       "FigureWidget({\n",
       "    'data': [{'mode': 'lines', 'name': 'Train', 'type': 'scatter', 'uid': '4e9c7066-de8d-46dd-b166-586a7121ecb9', 'y': []},\n",
       "             {'mode': 'lines', 'name': 'Test', 'type': 'scatter', 'uid': 'd2110e91-2f36-4b8b-bbbb-e25fb49bd184', 'y': []}],\n",
       "    'layout': {'margin': {'b': 20, 'l': 20, 'r': 20, 't': 20},\n",
       "               'template': '...',\n",
       "               'xaxis': {'title': {'text': 'Epoch'}},\n",
       "               'yaxis': {'title': {'text': 'Accuracy'}}}\n",
       "})"
      ]
     },
     "metadata": {},
     "output_type": "display_data"
    },
    {
     "data": {
      "application/vnd.jupyter.widget-view+json": {
       "model_id": "26b654e1f27a4a0ab3d1221602b62889",
       "version_major": 2,
       "version_minor": 0
      },
      "text/plain": [
       "FigureWidget({\n",
       "    'data': [{'mode': 'lines', 'name': 'Train', 'type': 'scatter', 'uid': 'e65c1699-61f0-4161-afa3-0d1a033f3c3a', 'y': []},\n",
       "             {'mode': 'lines', 'name': 'Test', 'type': 'scatter', 'uid': 'ef90a4f6-29e1-4404-85cc-6413e9b2469d', 'y': []}],\n",
       "    'layout': {'margin': {'b': 20, 'l': 20, 'r': 20, 't': 20},\n",
       "               'template': '...',\n",
       "               'xaxis': {'title': {'text': 'Epoch'}},\n",
       "               'yaxis': {'title': {'text': 'Loss'}}}\n",
       "})"
      ]
     },
     "metadata": {},
     "output_type": "display_data"
    },
    {
     "name": "stdout",
     "output_type": "stream",
     "text": [
      "Validation Accuracy | Loss: \n",
      "[0.864300012588501]\n",
      "[0.3146377205848694]\n",
      "Train Accuracy | Loss: \n",
      "[0.7927250266075134]\n",
      "[0.43371957540512085]\n",
      "Validation Accuracy | Loss: \n",
      "[0.864300012588501, 0.8813999891281128]\n",
      "[0.3146377205848694, 0.28561776876449585]\n",
      "Train Accuracy | Loss: \n",
      "[0.7927250266075134, 0.8778250217437744]\n",
      "[0.43371957540512085, 0.29038798809051514]\n",
      "Validation Accuracy | Loss: \n",
      "[0.864300012588501, 0.8813999891281128, 0.8820000290870667]\n",
      "[0.3146377205848694, 0.28561776876449585, 0.2909031808376312]\n",
      "Train Accuracy | Loss: \n",
      "[0.7927250266075134, 0.8778250217437744, 0.9096249938011169]\n",
      "[0.43371957540512085, 0.29038798809051514, 0.22186467051506042]\n",
      "Validation Accuracy | Loss: \n",
      "[0.864300012588501, 0.8813999891281128, 0.8820000290870667, 0.8802000284194946]\n",
      "[0.3146377205848694, 0.28561776876449585, 0.2909031808376312, 0.31167298555374146]\n",
      "Train Accuracy | Loss: \n",
      "[0.7927250266075134, 0.8778250217437744, 0.9096249938011169, 0.9366250038146973]\n",
      "[0.43371957540512085, 0.29038798809051514, 0.22186467051506042, 0.16582098603248596]\n",
      "Validation Accuracy | Loss: \n",
      "[0.864300012588501, 0.8813999891281128, 0.8820000290870667, 0.8802000284194946, 0.8708999752998352]\n",
      "[0.3146377205848694, 0.28561776876449585, 0.2909031808376312, 0.31167298555374146, 0.3552672863006592]\n",
      "Train Accuracy | Loss: \n",
      "[0.7927250266075134, 0.8778250217437744, 0.9096249938011169, 0.9366250038146973, 0.9530749917030334]\n",
      "[0.43371957540512085, 0.29038798809051514, 0.22186467051506042, 0.16582098603248596, 0.12521423399448395]\n"
     ]
    }
   ],
   "source": [
    "TRAIN = on_kaggle # True for kaggle, False for local machine\n",
    "logger = PlotlyLogger()\n",
    "trainer = pl.Trainer(max_epochs=5,\n",
    "                    accelerator='gpu', \n",
    "                    devices=1, \n",
    "                    logger = logger,\n",
    "                    enable_progress_bar= not on_kaggle  \n",
    "                    )\n",
    "if TRAIN:\n",
    "    trainer.fit(model, train_loader, test_loader)\n",
    "if not TRAIN:\n",
    "    clear_output()\n",
    "    model = TextConvNN.load_from_checkpoint(\"glove-twitter-50_imdb_1.ckpt\", \n",
    "                                            vocab_size=len(dataset.vocab.vocab) + 1, \n",
    "                                            dims_size=fasttext.vector_size, \n",
    "                                            pad_idx=pad_index)"
   ]
  },
  {
   "cell_type": "code",
   "execution_count": 9,
   "id": "070b69ad",
   "metadata": {
    "execution": {
     "iopub.execute_input": "2024-10-01T09:51:14.169332Z",
     "iopub.status.busy": "2024-10-01T09:51:14.168931Z",
     "iopub.status.idle": "2024-10-01T09:51:18.728329Z",
     "shell.execute_reply": "2024-10-01T09:51:18.727505Z"
    },
    "papermill": {
     "duration": 6.670476,
     "end_time": "2024-10-01T09:51:18.730129",
     "exception": false,
     "start_time": "2024-10-01T09:51:12.059653",
     "status": "completed"
    },
    "tags": [],
    "vscode": {
     "languageId": "python"
    }
   },
   "outputs": [
    {
     "name": "stdout",
     "output_type": "stream",
     "text": [
      "Validation Accuracy | Loss: \n",
      "[0.864300012588501, 0.8813999891281128, 0.8820000290870667, 0.8802000284194946, 0.8708999752998352, 0]\n",
      "[0.3146377205848694, 0.28561776876449585, 0.2909031808376312, 0.31167298555374146, 0.3552672863006592, 0]\n"
     ]
    },
    {
     "data": {
      "text/html": [
       "<pre style=\"white-space:pre;overflow-x:auto;line-height:normal;font-family:Menlo,'DejaVu Sans Mono',consolas,'Courier New',monospace\">┏━━━━━━━━━━━━━━━━━━━━━━━━━━━┳━━━━━━━━━━━━━━━━━━━━━━━━━━━┓\n",
       "┃<span style=\"font-weight: bold\">        Test metric        </span>┃<span style=\"font-weight: bold\">       DataLoader 0        </span>┃\n",
       "┡━━━━━━━━━━━━━━━━━━━━━━━━━━━╇━━━━━━━━━━━━━━━━━━━━━━━━━━━┩\n",
       "│<span style=\"color: #008080; text-decoration-color: #008080\">       test_accuracy       </span>│<span style=\"color: #800080; text-decoration-color: #800080\">    0.8708999752998352     </span>│\n",
       "│<span style=\"color: #008080; text-decoration-color: #008080\">         test_loss         </span>│<span style=\"color: #800080; text-decoration-color: #800080\">    0.3552672863006592     </span>│\n",
       "└───────────────────────────┴───────────────────────────┘\n",
       "</pre>\n"
      ],
      "text/plain": [
       "┏━━━━━━━━━━━━━━━━━━━━━━━━━━━┳━━━━━━━━━━━━━━━━━━━━━━━━━━━┓\n",
       "┃\u001b[1m \u001b[0m\u001b[1m       Test metric       \u001b[0m\u001b[1m \u001b[0m┃\u001b[1m \u001b[0m\u001b[1m      DataLoader 0       \u001b[0m\u001b[1m \u001b[0m┃\n",
       "┡━━━━━━━━━━━━━━━━━━━━━━━━━━━╇━━━━━━━━━━━━━━━━━━━━━━━━━━━┩\n",
       "│\u001b[36m \u001b[0m\u001b[36m      test_accuracy      \u001b[0m\u001b[36m \u001b[0m│\u001b[35m \u001b[0m\u001b[35m   0.8708999752998352    \u001b[0m\u001b[35m \u001b[0m│\n",
       "│\u001b[36m \u001b[0m\u001b[36m        test_loss        \u001b[0m\u001b[36m \u001b[0m│\u001b[35m \u001b[0m\u001b[35m   0.3552672863006592    \u001b[0m\u001b[35m \u001b[0m│\n",
       "└───────────────────────────┴───────────────────────────┘\n"
      ]
     },
     "metadata": {},
     "output_type": "display_data"
    },
    {
     "data": {
      "text/plain": [
       "[{'test_loss': 0.3552672863006592, 'test_accuracy': 0.8708999752998352}]"
      ]
     },
     "execution_count": 9,
     "metadata": {},
     "output_type": "execute_result"
    }
   ],
   "source": [
    "trainer.test(model, test_loader)"
   ]
  },
  {
   "cell_type": "code",
   "execution_count": 10,
   "id": "e1a01fe1",
   "metadata": {
    "execution": {
     "iopub.execute_input": "2024-10-01T09:51:22.903752Z",
     "iopub.status.busy": "2024-10-01T09:51:22.903026Z",
     "iopub.status.idle": "2024-10-01T09:51:22.971269Z",
     "shell.execute_reply": "2024-10-01T09:51:22.970379Z"
    },
    "papermill": {
     "duration": 2.140681,
     "end_time": "2024-10-01T09:51:22.973655",
     "exception": false,
     "start_time": "2024-10-01T09:51:20.832974",
     "status": "completed"
    },
    "tags": [],
    "vscode": {
     "languageId": "python"
    }
   },
   "outputs": [],
   "source": [
    "trainer.save_checkpoint(\"glove-twitter-50_imdb_2.ckpt\")"
   ]
  }
 ],
 "metadata": {
  "kaggle": {
   "accelerator": "gpu",
   "dataSources": [
    {
     "datasetId": 134715,
     "sourceId": 320111,
     "sourceType": "datasetVersion"
    }
   ],
   "dockerImageVersionId": 30776,
   "isGpuEnabled": true,
   "isInternetEnabled": true,
   "language": "python",
   "sourceType": "notebook"
  },
  "kernelspec": {
   "display_name": "Python 3 (ipykernel)",
   "language": "python",
   "name": "python3"
  },
  "language_info": {
   "codemirror_mode": {
    "name": "ipython",
    "version": 3
   },
   "file_extension": ".py",
   "mimetype": "text/x-python",
   "name": "python",
   "nbconvert_exporter": "python",
   "pygments_lexer": "ipython3",
   "version": "3.10.14"
  },
  "papermill": {
   "default_parameters": {},
   "duration": 1564.279292,
   "end_time": "2024-10-01T09:51:27.320353",
   "environment_variables": {},
   "exception": null,
   "input_path": "__notebook__.ipynb",
   "output_path": "__notebook__.ipynb",
   "parameters": {},
   "start_time": "2024-10-01T09:25:23.041061",
   "version": "2.6.0"
  },
  "widgets": {
   "application/vnd.jupyter.widget-state+json": {
    "state": {
     "26b654e1f27a4a0ab3d1221602b62889": {
      "model_module": "jupyterlab-plotly",
      "model_module_version": "^5.22.0",
      "model_name": "FigureModel",
      "state": {
       "_config": {
        "plotlyServerURL": "https://plot.ly"
       },
       "_data": [],
       "_dom_classes": [],
       "_js2py_layoutDelta": {},
       "_js2py_pointsCallback": {},
       "_js2py_relayout": {},
       "_js2py_restyle": {},
       "_js2py_traceDeltas": {},
       "_js2py_update": {},
       "_last_layout_edit_id": 14,
       "_last_trace_edit_id": 14,
       "_layout": {},
       "_model_module": "jupyterlab-plotly",
       "_model_module_version": "^5.22.0",
       "_model_name": "FigureModel",
       "_py2js_addTraces": null,
       "_py2js_animate": {},
       "_py2js_deleteTraces": {},
       "_py2js_moveTraces": {},
       "_py2js_relayout": null,
       "_py2js_removeLayoutProps": {},
       "_py2js_removeTraceProps": {},
       "_py2js_restyle": null,
       "_py2js_update": null,
       "_view_count": 0,
       "_view_module": "jupyterlab-plotly",
       "_view_module_version": "^5.22.0",
       "_view_name": "FigureView"
      }
     },
     "6dda24420e5c45d79993142a85e55ab6": {
      "model_module": "jupyterlab-plotly",
      "model_module_version": "^5.22.0",
      "model_name": "FigureModel",
      "state": {
       "_config": {
        "plotlyServerURL": "https://plot.ly"
       },
       "_data": [],
       "_dom_classes": [],
       "_js2py_layoutDelta": {},
       "_js2py_pointsCallback": {},
       "_js2py_relayout": {},
       "_js2py_restyle": {},
       "_js2py_traceDeltas": {},
       "_js2py_update": {},
       "_last_layout_edit_id": 14,
       "_last_trace_edit_id": 14,
       "_layout": {},
       "_model_module": "jupyterlab-plotly",
       "_model_module_version": "^5.22.0",
       "_model_name": "FigureModel",
       "_py2js_addTraces": null,
       "_py2js_animate": {},
       "_py2js_deleteTraces": {},
       "_py2js_moveTraces": {},
       "_py2js_relayout": null,
       "_py2js_removeLayoutProps": {},
       "_py2js_removeTraceProps": {},
       "_py2js_restyle": null,
       "_py2js_update": null,
       "_view_count": 0,
       "_view_module": "jupyterlab-plotly",
       "_view_module_version": "^5.22.0",
       "_view_name": "FigureView"
      }
     }
    },
    "version_major": 2,
    "version_minor": 0
   }
  }
 },
 "nbformat": 4,
 "nbformat_minor": 5
}
