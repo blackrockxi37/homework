{
 "cells": [
  {
   "cell_type": "code",
   "execution_count": 105,
   "metadata": {},
   "outputs": [],
   "source": [
    "import torch\n",
    "import numpy as np\n",
    "import torch.nn as nn\n",
    "from torchvision.datasets import MNIST\n",
    "import torchvision.transforms as T\n",
    "from torch.utils.data import DataLoader\n",
    "from torch.utils.data import Dataset\n",
    "from IPython.display import clear_output as co\n",
    "from tqdm import tqdm\n",
    "import matplotlib.pyplot as plt\n",
    "from torch.optim import Adam\n",
    "import seaborn as sns\n",
    "from PIL import Image\n",
    "from glob import glob\n",
    "sns.set_theme(style=\"darkgrid\", font_scale = 0.7)\n",
    "\n",
    "try:\n",
    "    from dotenv import load_dotenv\n",
    "    load_dotenv()\n",
    "except:\n",
    "    print('.env is not loaded')\n",
    "    pass\n",
    "\n",
    "import os\n",
    "os.environ['KMP_DUPLICATE_LIB_OK']='True'\n",
    "\n",
    "from teleflow import Bot\n",
    "bot = Bot()"
   ]
  },
  {
   "cell_type": "code",
   "execution_count": 106,
   "metadata": {},
   "outputs": [
    {
     "name": "stderr",
     "output_type": "stream",
     "text": [
      "Downloading...\n",
      "From: https://drive.google.com/uc?id=1S6Wqm9CoLgVVWe8kPIbBseS_ndGTIR-V\n",
      "To: c:\\Users\\rockxi\\Desktop\\учеба\\python\\homework\\faces_dataset.zip\n",
      "100%|██████████| 2.83M/2.83M [00:00<00:00, 19.2MB/s]\n"
     ]
    },
    {
     "name": "stdout",
     "output_type": "stream",
     "text": [
      "Загрузка датасета произошла успешно бип-буп-буп\n"
     ]
    }
   ],
   "source": [
    "def _load(path):\n",
    "    with open(path, 'rb') as f:\n",
    "        img = Image.open(f)\n",
    "        return img.convert('L')\n",
    "\n",
    "class Faces(Dataset):\n",
    "    def __init__(self, root, split = 'train', transform = None, download = False):\n",
    "        if download:\n",
    "            self._download()\n",
    "        \n",
    "        self.root = os.path.join(root, split)\n",
    "        self.names, self.name2id, self.id2name = self._get_names()\n",
    "        self.images, self.labels = self._get_people()\n",
    "        self.total_idxs = np.arange(len(self.images))\n",
    "        self.transform = transform\n",
    "\n",
    "\n",
    "\n",
    "    def _get_names(self):\n",
    "        names = list(map(lambda x : int(x), os.listdir(self.root)))\n",
    "        name2id = {name : _ for _, name in enumerate(names)}\n",
    "        id2name = {_ : name for _, name in enumerate(names)}\n",
    " \n",
    "        return names, name2id, id2name\n",
    "    \n",
    "    def _get_people(self):\n",
    "        images = glob(os.path.join(self.root, '*\\\\*'))\n",
    "        labels = [self.name2id[int(image.split('\\\\')[-2])] for image in images]\n",
    "        return np.array(images), np.array(labels)\n",
    "    \n",
    "    def _download(self):\n",
    "        import gdown\n",
    "        import zipfile\n",
    "        import os\n",
    "        import shutil\n",
    "        if os.path.exists('faces_dataset'):\n",
    "            shutil.rmtree('faces_dataset')\n",
    "        file_id = '1S6Wqm9CoLgVVWe8kPIbBseS_ndGTIR-V'\n",
    "        output = 'faces_dataset.zip'\n",
    "        gdown.download(f'https://drive.google.com/uc?id={file_id}', output)\n",
    "        with zipfile.ZipFile(output, 'r') as zip_ref:\n",
    "            zip_ref.extractall('faces_dataset_unzipped')\n",
    "            shutil.move('./faces_dataset_unzipped/faces_dataset', './faces_dataset')\n",
    "        os.remove(output)\n",
    "        os.rmdir('./faces_dataset_unzipped')\n",
    "        print('Загрузка датасета произошла успешно бип-буп-буп')\n",
    "            \n",
    "\n",
    "    def __getitem__(self, index):\n",
    "        image1 = _load(self.images[index])\n",
    "\n",
    "        if np.random.uniform() < 0.5:\n",
    "            image2 = _load(np.random.choice(self.images[self.labels == self.labels[index]]))\n",
    "            label = torch.tensor([1], dtype = torch.float)\n",
    "        else:\n",
    "            image2 = _load(np.random.choice(self.images[self.labels != self.labels[index]]))\n",
    "            label = torch.tensor([0], dtype = torch.float)\n",
    "        \n",
    "        if self.transform is not None:\n",
    "            image1 = self.transform(image1)\n",
    "            image2 = self.transform(image2)\n",
    "        \n",
    "        return image1, image2, label, torch.tensor(self.labels[index], dtype = torch.int)\n",
    "    \n",
    "    def __len__(self):\n",
    "        return len(self.images)\n",
    "\n",
    "faces = Faces(root = 'faces_dataset', download = False)"
   ]
  },
  {
   "cell_type": "code",
   "execution_count": 107,
   "metadata": {},
   "outputs": [],
   "source": [
    "train_transform = T.Compose([\n",
    "    T.Resize((128, 128)),\n",
    "    T.RandomHorizontalFlip(),\n",
    "    T.ToTensor(),\n",
    "])\n",
    "test_trainform = T.Compose([\n",
    "    T.Resize((128, 128)),\n",
    "    T.ToTensor(),\n",
    "])\n",
    "\n",
    "train_set = Faces(root = 'faces_dataset', split = 'train', transform = train_transform)\n",
    "test_set = Faces(root = 'faces_dataset', split = 'test', transform = test_trainform)\n",
    "\n",
    "train_loader = DataLoader(train_set, batch_size = 30 , shuffle = True, num_workers=0, pin_memory=True)\n",
    "test_loader = DataLoader(test_set, batch_size = 1, shuffle = False, num_workers=0, pin_memory=True)"
   ]
  },
  {
   "cell_type": "code",
   "execution_count": 108,
   "metadata": {},
   "outputs": [],
   "source": [
    "class ContrastiveLoss(nn.Module):\n",
    "    def __init__(self, margin = 2.0):\n",
    "        super().__init__()\n",
    "        self.margin = margin\n",
    "    def forward(self, output1, output2, label):\n",
    "        euclidean_distance = nn.functional.pairwise_distance(output1, output2, keepdim=True)\n",
    "        return torch.mean(label * torch.pow(euclidean_distance, 2) + (1 - label) * torch.pow(torch.clamp(self.margin - euclidean_distance, min = 0.0), 2))\n",
    "\n",
    "class ContrativeModel(nn.Module):\n",
    "    def __init__(self):\n",
    "        super().__init__()\n",
    "\n",
    "        self.feature_ex = nn.Sequential(\n",
    "            nn.Conv2d(1, 32, 3, 1, 1),\n",
    "            nn.BatchNorm2d(32),\n",
    "            nn.ELU(),\n",
    "            nn.MaxPool2d(2),\n",
    "\n",
    "            nn.Conv2d(32, 32, 3, 1, 1),\n",
    "            nn.BatchNorm2d(32),\n",
    "            nn.ELU(),\n",
    "            nn.MaxPool2d(2),\n",
    "\n",
    "            nn.Conv2d(32, 32, 3, 1, 1),\n",
    "            nn.BatchNorm2d(32),\n",
    "            nn.ELU(),\n",
    "            nn.MaxPool2d(2),\n",
    "\n",
    "            nn.Flatten(),\n",
    "        )\n",
    "        self.fc = nn.Sequential(\n",
    "            nn.Linear(16 * 16 * 32, 512),\n",
    "            nn.ELU(),\n",
    "            nn.Linear(512, 10),\n",
    "        )\n",
    "\n",
    "    def forward_single(self, x):\n",
    "        return self.fc(self.feature_ex(x))\n",
    "        \n",
    "    def forward(self, x1, x2):\n",
    "        return self.forward_single(x1), self.forward_single(x2)"
   ]
  },
  {
   "cell_type": "code",
   "execution_count": 109,
   "metadata": {},
   "outputs": [
    {
     "name": "stdout",
     "output_type": "stream",
     "text": [
      "cuda\n"
     ]
    }
   ],
   "source": [
    "device = 'cuda' if torch.cuda.is_available() else 'cpu'; print(device)"
   ]
  },
  {
   "cell_type": "code",
   "execution_count": 110,
   "metadata": {},
   "outputs": [],
   "source": [
    "def train(model, loader, optim, loss_fn):\n",
    "    model.train()\n",
    "    train_loss = 0\n",
    "    for x1, x2, y, _ in tqdm(loader, desc = \"Train\"):\n",
    "        x1, x2, y = x1.to(device), x2.to(device), y.to(device)\n",
    "        optim.zero_grad()\n",
    "        y_pred1, y_pred2 = model(x1, x2)\n",
    "        loss = loss_fn(y_pred1, y_pred2, y)\n",
    "        train_loss += loss.item()\n",
    "        loss.backward()\n",
    "        optim.step()\n",
    "    return train_loss / len(loader)\n",
    "@torch.inference_mode()\n",
    "def get_latent_base(model):\n",
    "    model.eval()\n",
    "    xs = []\n",
    "    ys = []\n",
    "    zs = []\n",
    "\n",
    "    for x, _, _, y in train_loader:\n",
    "        z = model.forward_single(x.to(device))\n",
    "        xs.append(x)\n",
    "        ys.append(y)\n",
    "        zs.append(z)\n",
    "    xs = torch.cat(xs)\n",
    "    ys = torch.cat(ys)\n",
    "    zs = torch.cat(zs)\n",
    "    return xs, ys, zs\n",
    "@torch.inference_mode()\n",
    "def test(model, loader):\n",
    "    model.eval()\n",
    "    xs, ys, zs = get_latent_base(model)\n",
    "    \n",
    "    total, correct = 0, 0\n",
    "    for i, (x, _, _, y) in tqdm(enumerate(loader), desc = 'Test'):\n",
    "        z = model.forward_single(x.to(device))\n",
    "        dist = nn.functional.pairwise_distance(z, zs)\n",
    "        idx = torch.argmin(dist) \n",
    "        correct += ys.to(device)[idx] == y.to(device)\n",
    "        total += 1\n",
    "    return (correct / total).cpu()\n",
    "\n",
    "def octava(model, train_loader, test_loader, optim, loss_fn, epochs = 10, model_name = 'default'):\n",
    "    train_loss_arr, test_acc_arr = [], []\n",
    "    for epoch in range(epochs):\n",
    "        plt.figure(figsize = (10, 5))\n",
    "        train_loss = train(model, train_loader, optim, loss_fn)\n",
    "        test_acc = test(model, test_loader)\n",
    "        train_loss_arr.append(train_loss)\n",
    "        test_acc_arr.append(test_acc)\n",
    "        lr_shed.step(train_loss)\n",
    "        co(wait = True)\n",
    "        if epoch == epochs - 1:\n",
    "            plt.plot(train_loss_arr, label = 'Train Loss')\n",
    "            plt.plot(test_acc_arr, label = 'Test Acc')\n",
    "            plt.legend()\n",
    "            plt.savefig(model_name + '.png')\n",
    "        else: \n",
    "            plt.plot(train_loss_arr, label = 'Train Loss')\n",
    "            plt.plot(test_acc_arr, label = 'Test Acc')\n",
    "            plt.legend()\n",
    "        plt.show()\n",
    "        print(f'Epoch: {epoch + 1}/{epochs}, Train Loss: {train_loss:.4f}, Test Acc: {float(test_acc):.4f}')\n"
   ]
  },
  {
   "cell_type": "code",
   "execution_count": 111,
   "metadata": {},
   "outputs": [],
   "source": [
    "model = ContrativeModel().to(device)"
   ]
  },
  {
   "cell_type": "code",
   "execution_count": 112,
   "metadata": {},
   "outputs": [
    {
     "data": {
      "image/png": "[encoded data removed]",
      "text/plain": [
       "<Figure size 1000x500 with 1 Axes>"
      ]
     },
     "metadata": {},
     "output_type": "display_data"
    },
    {
     "name": "stdout",
     "output_type": "stream",
     "text": [
      "Epoch: 60/60, Train Loss: 0.0365, Test Acc: 0.9750\n"
     ]
    }
   ],
   "source": [
    "optim = Adam(model.parameters(), lr = 1e-3)\n",
    "loss_fn = ContrastiveLoss()\n",
    "lr_shed = torch.optim.lr_scheduler.ReduceLROnPlateau(optim, factor=0.5, patience=5)\n",
    "model_name = 'stats'\n",
    "epochs = 60\n",
    "if model_name not in os.listdir():\n",
    "    octava(model, train_loader, test_loader, optim, loss_fn, epochs, model_name)\n",
    "    torch.save(model.state_dict(), model_name + '.pth')\n",
    "    bot.send_results(text = f'Обучение {model_name} на {epochs} эпохах завершено.', image = model_name + '.png', file = model_name + '.pth')\n",
    "else:\n",
    "    model.load_state_dict(torch.load(model_name + '.pth', weight_only = True))"
   ]
  }
 ],
 "metadata": {
  "kernelspec": {
   "display_name": "Python 3 (ipykernel)",
   "language": "python",
   "name": "python3"
  }
 },
 "nbformat": 4,
 "nbformat_minor": 2
}
