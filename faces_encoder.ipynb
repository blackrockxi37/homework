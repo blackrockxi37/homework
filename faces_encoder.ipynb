{
 "cells": [
  {
   "cell_type": "code",
   "execution_count": 1,
   "metadata": {},
   "outputs": [],
   "source": [
    "import torch\n",
    "import numpy as np\n",
    "import torch.nn as nn\n",
    "from torchvision.datasets import MNIST\n",
    "import torchvision.transforms as T\n",
    "from torch.utils.data import DataLoader\n",
    "from torch.utils.data import Dataset\n",
    "from IPython.display import clear_output as co\n",
    "from tqdm import tqdm\n",
    "import matplotlib.pyplot as plt\n",
    "from torch.optim import Adam\n",
    "import seaborn as sns\n",
    "from PIL import Image\n",
    "\n",
    "sns.set_theme(style=\"darkgrid\", font_scale = 0.7)\n",
    "try:\n",
    "    from dotenv import load_dotenv\n",
    "    load_dotenv()\n",
    "except:\n",
    "    pass\n",
    "\n",
    "import os\n",
    "os.environ['KMP_DUPLICATE_LIB_OK']='True'\n",
    "\n",
    "from teleflow import Bot\n",
    "bot = Bot()"
   ]
  },
  {
   "cell_type": "code",
   "execution_count": null,
   "metadata": {},
   "outputs": [],
   "source": [
    "def _load(path):\n",
    "    with open(path, 'rb') as f:\n",
    "        img = Image.open(f)\n",
    "        return img.convert('L')\n",
    "\n",
    "class Faces(Dataset):\n",
    "    def __init__(self, root, split = True, transform = None):\n",
    "        self.root = os.path.join(root, split)\n",
    "\n",
    "    def _get_names(self):\n",
    "        names = list(map(lambda x : int(x), os.listdir(self.root)))\n",
    "        name2id = {name : i for i, name in enumerate(names)}\n",
    "        id2name = {i : name for i, name in enumerate(names)}\n",
    "\n",
    "        return names, name2id, id2name\n",
    "    def \n",
    "\n",
    "\n"
   ]
  }
 ],
 "metadata": {
  "kernelspec": {
   "display_name": "base",
   "language": "python",
   "name": "python3"
  },
  "language_info": {
   "codemirror_mode": {
    "name": "ipython",
    "version": 3
   },
   "file_extension": ".py",
   "mimetype": "text/x-python",
   "name": "python",
   "nbconvert_exporter": "python",
   "pygments_lexer": "ipython3",
   "version": "3.12.4"
  }
 },
 "nbformat": 4,
 "nbformat_minor": 2
}
